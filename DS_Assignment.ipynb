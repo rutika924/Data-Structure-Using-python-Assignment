{
  "nbformat": 4,
  "nbformat_minor": 0,
  "metadata": {
    "colab": {
      "provenance": []
    },
    "kernelspec": {
      "name": "python3",
      "display_name": "Python 3"
    },
    "language_info": {
      "name": "python"
    }
  },
  "cells": [
    {
      "cell_type": "markdown",
      "source": [
        "1)What are data structures, and why are they important\n",
        "\n",
        "Ans:-Data Structures are ways of storing and organizing data in a computer so it can be used efficiently.\n",
        "\n",
        "Why is data structure important:\n",
        "\n",
        "1.It stores data in an organized way.\n",
        "\n",
        "2.It make searching and updating faster.\n",
        "\n",
        "3.Save memory and improve performance.\n",
        "\n",
        "4.Help solve complex problems easily.\n",
        "\n",
        "5.It is used in almost every software like apps,games,databases\n",
        "\n"
      ],
      "metadata": {
        "id": "4IN-S2zhKbKd"
      }
    },
    {
      "cell_type": "markdown",
      "source": [
        "2)Explain the difference between mutable and immutable data types with examples?\n",
        "\n",
        "Ans:-\n",
        "\n",
        "1.Mutable data Types:\n",
        "\n",
        "-These can be changed or modified after creation.\n",
        "\n",
        "-If you update a value, the same object in memory is modified.\n",
        "\n",
        "-Example: List,Dictionary,Set.\n",
        "\n",
        "Example in Python:\n",
        "\n",
        "    my_list=[1,2,3]\n",
        "\n",
        "    my_list[0]=10\n",
        "\n",
        "    print(my_list)\n",
        "\n",
        "Output:\n",
        "\n",
        "  [10,2,3]\n",
        "\n",
        "2.Immutable Data Types:\n",
        "\n",
        "-These cannont be changed after creation.\n",
        "\n",
        "-If you try to update, a new object is created instead.\n",
        "\n",
        "-Examples: String,Tuple,Integer,Float\n",
        "\n",
        "Example in Python:\n",
        "\n",
        "    my_str = \"hello\"\n",
        "\n",
        "    my_str = my_str.replace(\"h\",\"H\")\n",
        "\n",
        "    print(my_str)\n",
        "\n",
        "Output:\n",
        "\n",
        "  Hello\n",
        "\n"
      ],
      "metadata": {
        "id": "39o4TEGPRDoe"
      }
    },
    {
      "cell_type": "markdown",
      "source": [
        "3)What are the main differences between lists and tuples in Python?\n",
        "\n",
        "Ans:\n",
        "\n",
        "1.List:\n",
        "\n",
        "-It is mutable and can be changed after creation.\n",
        "\n",
        "-It is slower in execution compared to tuples.\n",
        "\n",
        "-It is written inside square brackets [].\n",
        "\n",
        "-Example:\n",
        "\n",
        "    my_list=[1,2,3]\n",
        "\n",
        "    my_list[0]=10\n",
        "\n",
        "    print(my_list)\n",
        "\n",
        "Output:\n",
        "\n",
        " 10,2,3\n",
        "\n",
        "2.Tuple:\n",
        "\n",
        "-It is immutable it cannot be changed after creation.\n",
        "\n",
        "-It is execution compared to lists.\n",
        "\n",
        "-It is written inside parentheses ().\n",
        "\n",
        "-Example:\n",
        "\n",
        "    my_tuple = (1,2,3)\n",
        "\n",
        "    my_tuple[0]=10\n",
        "\n",
        "    print(my_tuple)\n",
        "\n",
        "Output:\n",
        "\n",
        "It will show an error since tuple cannot be modified"
      ],
      "metadata": {
        "id": "V5rNysdARGPk"
      }
    },
    {
      "cell_type": "markdown",
      "source": [
        "4)Describe how dictionaries store data.\n",
        "\n",
        "Ans:-\n",
        "\n",
        "-A dictionary stores data in the form of key-value pairs.\n",
        "\n",
        "-Each iten has a key like a label and a value the data\n",
        "\n",
        "-Key must be unique and immutable (for eg: string, number,tuple).\n",
        "\n",
        "-Values can be of any data type like Number,string,list etc.\n",
        "\n",
        "-Dictionaries use a technique called hashing to quickly find values based on their keys.\n",
        "\n",
        "-It is written inside curly braces {}.\n",
        "\n",
        "-Example:\n",
        "\n",
        "    student = {\"name\": \"Rahul\", \"age\":20, \"marks\": 85}\n",
        "\n",
        "    print(student[\"name\"])\n",
        "\n",
        "Output:\n",
        "\n",
        "Rahul"
      ],
      "metadata": {
        "id": "SRrtbzvoRH1l"
      }
    },
    {
      "cell_type": "markdown",
      "source": [
        "5)Why might you use a set instead of a list in Python?\n",
        "\n",
        "Ans:-\n",
        "\n",
        "-No Duplicates -> A set automatically removes duplicate values, while a list can store duplicates.\n",
        "\n",
        "-Fast Searching -> Sets use hashing,so checking if an item exists is faster than in a list.\n",
        "\n",
        "-Mathematical Operations -> Sets allows operations like union, intersection, difference, which lists do not support directly.\n",
        "\n",
        "-Unordered Collection -> Sets dont care about order, useful when order is not important\n",
        "\n",
        "-Example:\n",
        "\n",
        "    my_list = [1,2,2,3]\n",
        "\n",
        "    my_set = {1,2,2,3}\n",
        "\n",
        "    print(my_list)\n",
        "\n",
        "    print(my_set)\n",
        "\n",
        "Output:\n",
        "my_list: [1,2,2,3]\n",
        "\n",
        "my_set:  [1,2,3]"
      ],
      "metadata": {
        "id": "jgtt35zeS3cz"
      }
    },
    {
      "cell_type": "markdown",
      "source": [
        "6)What is a string in Python, and how is it different from a list?\n",
        "\n",
        "Ans:-\n",
        "\n",
        "1.String in Python:-\n",
        "\n",
        "-A string is a sequence of characters enclosed in quotes (' ' or \" \").\n",
        "\n",
        "-Example:\n",
        "\n",
        "    my_str = \"Hello\"\n",
        "\n",
        "*Difference between String and List\n",
        "\n",
        "1.String:-\n",
        "\n",
        "-It stores characters only.\n",
        "\n",
        "-It is immutable and it cannot be changed after creation.\n",
        "\n",
        "-It is written inside quotes.\n",
        "\n",
        "-Example: \"Vandana\"\n",
        "\n",
        "2.List:-\n",
        "\n",
        "-It stores different types of data like numbers, strings, etc.\n",
        "\n",
        "-It is mutable and can be modified after creation.\n",
        "\n",
        "-It is written in square brackets [].\n",
        "\n",
        "-Examples:[10, \"Vandana\" , 3.5]"
      ],
      "metadata": {
        "id": "4OFrCQNnUVtZ"
      }
    },
    {
      "cell_type": "markdown",
      "source": [
        "7)How do tuples ensure data integrity in Python?\n",
        "\n",
        "Ans:-\n",
        "\n",
        "-Immutable Nature -> Tuples cannot be changed after creation like no adding, removing or modifying elements.\n",
        "\n",
        "-Fixed Data -> Once stored, the data remains the same, preventing accidental changes.\n",
        "\n",
        "-Reliable Keys -> Because they are immutable, tuples can be used as keys in dictionaries\n",
        "\n",
        "-Safter Data Handling -> It is useful when you want to store constant data, like coordinates (x,y) or dates, where values must not change.\n",
        "\n",
        "-Example:\n",
        "\n",
        "    coordinates = (10,20)\n",
        "\n",
        "    # coordinates[0] = 30 (Error tuple cannot be changed)\n",
        "\n",
        "    print(coordinates)\n",
        "\n",
        "Output:\n",
        "\n",
        " 10,20"
      ],
      "metadata": {
        "id": "saIzBG_vWhjR"
      }
    },
    {
      "cell_type": "markdown",
      "source": [
        "8)What is a hash table, and how does it relate to dictionaries in Python?\n",
        "\n",
        "Ans:-\n",
        "\n",
        "*What is a Hash Table?\n",
        "\n",
        "-A hash table is a data structure that stores data in key-value pairs.\n",
        "\n",
        "-It uses a hash function to convert a key into a memory address it is called as hash value\n",
        "\n",
        "-This make data lookup, insertion, and deletion very fast.\n",
        "\n",
        "*Relation to Dictionaries in Python\n",
        "\n",
        "-In python, a dictionary is implemented using a hash table.\n",
        "\n",
        "-Each key in a dictionary is passed through a hash function to decide where its value will be stored in memory.\n",
        "\n",
        "-That's why:\n",
        "\n",
        "  *Dictionary keys must be immutable like strings,numbers, tuples.\n",
        "\n",
        "  *Lookup in dictionaries is very fast compared to lists.\n",
        "\n",
        "-Example:\n",
        "\n",
        "    student = {\"name\":\"Rahul\", \"age\":20}\n",
        "\n",
        "    print(student[\"name\"]) #Fast access using hashing"
      ],
      "metadata": {
        "id": "KG47rmv8YnsL"
      }
    },
    {
      "cell_type": "markdown",
      "source": [
        "9)Can lists contain different data types in Python?\n",
        "\n",
        "Ans:-\n",
        "\n",
        "-In Python, a list is an ordered collection of elements written inside square brackets [].\n",
        "\n",
        "-A list can contain different data types like number, strings, floats, even other lists.\n",
        "\n",
        "-This makes lists very flexible.\n",
        "\n",
        "-Example:\n",
        "\n",
        "    my_list = [10, \"Hello\", 3.5, True, [1,2,3]]\n",
        "\n",
        "    print(my_list)\n",
        "\n",
        "Output:\n",
        "\n",
        " [10, \"Hello\", 3.5, True, [1,2,3]]\n"
      ],
      "metadata": {
        "id": "RdYaj6xkapRT"
      }
    },
    {
      "cell_type": "markdown",
      "source": [
        "10)Explain why strings are immutable in Python.\n",
        "\n",
        "Ans:\n",
        "\n",
        "-Definition:\n",
        "\n",
        "Strings in Python are immutable, meaning once created, they cannot be changed.\n",
        "\n",
        "-Memory Safety:\n",
        "\n",
        "If many variables use the same string, immutability prevents accidental changes.\n",
        "\n",
        "-Hashing Support:\n",
        "\n",
        "Since  strings never change, they can be used as keys in dictionaries.\n",
        "\n",
        "-Performance:\n",
        "\n",
        "Immutable objects are faster and more memory-efficient because they can be reused.\n",
        "\n",
        "-Consistency:\n",
        "\n",
        "Any operation that seems to \"modify\" string (like replace or upper) actually creates a new string.\n",
        "\n",
        "-Example:\n",
        "\n",
        "    s = \"hello\"\n",
        "\n",
        "    s = s.replace(\"h\", \"H\")\n",
        "\n",
        "    print(s)\n",
        "\n",
        "Output:\n",
        "\n",
        "\"Hello\"\n",
        "\n",
        "*Original \"hello\" stays unchanged, a new \"Hello\" is created."
      ],
      "metadata": {
        "id": "uKG26WVYbwGn"
      }
    },
    {
      "cell_type": "markdown",
      "source": [
        "11)What advantages do dictionaries offer over lists for certain tasks?\n",
        "\n",
        "Ans:\n",
        "*Advantages of Dictionaries over lists in Python\n",
        "\n",
        "1.Fast Lookup:\n",
        "\n",
        "Dictionaries use hashing, so searching for a value by key is much faster than searching in a list.\n",
        "\n",
        "2.Key-Value Storage:\n",
        "\n",
        "Dictionaries store data as key:value pairs, making it easier to map relationships (eg. roll number -> student name)\n",
        "\n",
        "3.Unique Keys:\n",
        "\n",
        "Each key is unique, preventing duplicate identifiers.\n",
        "\n",
        "4.Flexible Values:\n",
        "\n",
        "Values can be of any data like numbers, strings, lists, even other dictionaries.\n",
        "\n",
        "5.Real-Life Use:\n",
        "\n",
        "Useful when data needs to be labeled like a dictionary word with its meaning.\n",
        "\n",
        "\n",
        "-Example:\n",
        "\n",
        "#Using a list\n",
        "   \n",
        "    students = [\"Rahul\",\"Neha\",\"Amit\"]\n",
        "    \n",
        "    print(students[0])   //Access by index only\n",
        "\n",
        "#Using a dictionary\n",
        "\n",
        "    students = {\"101\": \"Rahul\", \"102\": \"Neha\", \"103\": \"Amit\"}\n",
        "\n",
        "    print(students[\"102\"])   //Access directly by roll number (key)\n",
        "\n",
        "\n"
      ],
      "metadata": {
        "id": "GfdivWhVdzIb"
      }
    },
    {
      "cell_type": "markdown",
      "source": [
        "12)Describe a scenario where using a tuple would be preferable over a list.\n",
        "\n",
        "Ans:\n",
        "\n",
        "Scenario where Tuple is Better than List:\n",
        "\n",
        "-Tuples are immutable, so they are useful when you want to store fixed data that should not be modified.\n",
        "\n",
        "-Example: Storing coordinates, dates , or configuration values.\n",
        "\n",
        "Example:\n",
        "\n",
        "#Coordinates should not change\n",
        "\n",
        "    location = (28.61 , 77.23)   //Latitude,Longitude\n",
        "\n",
        "\n",
        "#Using a lsit instead could allow accidental change\n",
        "\n",
        "    wrong_location = [28.61 , 77.23]\n",
        "\n",
        "    wrong_location[0] = 100  //changed by mistake"
      ],
      "metadata": {
        "id": "QFIeorI0gfa0"
      }
    },
    {
      "cell_type": "markdown",
      "source": [],
      "metadata": {
        "id": "FmiE-F1BiRkj"
      }
    },
    {
      "cell_type": "markdown",
      "source": [
        "13. How do sets handle duplicate values in Python?\n",
        "\n",
        "Ans:\n",
        "- Sets store only unique values.\n",
        "- If you try to add a duplicate, it is automatically removed.\n",
        "- This is because sets use hashing, which does not allow duplicates.\n",
        "\n",
        "-Example:\n",
        "\n",
        "    my_set ={1,2,2,3,3,3}\n",
        "    print(my_set)    \n",
        "\n",
        "Output:\n",
        "\n",
        "{1,2,3}"
      ],
      "metadata": {
        "id": "X2i0HwG3diSy"
      }
    },
    {
      "cell_type": "markdown",
      "source": [
        "14. How does the “in” keyword work differently for lists and dictionaries?\n",
        "\n",
        "Ans:\n",
        "\n",
        "-In Lists\n",
        "\n",
        "Checks if a value is presesnt in the list.\n",
        "\n",
        "Example:\n",
        "\n",
        "    numbers = [10,20,30]\n",
        "    print(20 in numbers)\n",
        "    print(40 in numbers)\n",
        "\n",
        "    Output\n",
        "    True\n",
        "    False\n",
        "\n",
        "- In Dictionaries\n",
        "\n",
        "Checks if a key (not value) is present in the dictionary.\n",
        "\n",
        "Example:\n",
        "\n",
        "    students = {\"name\": \"Rahul\",\"age\":20}\n",
        "    print(\"name\" in student)\n",
        "    print(\"Rahul\" in student)\n",
        "\n",
        "    Output\n",
        "    True\n",
        "    False"
      ],
      "metadata": {
        "id": "pHG9SNUFe31F"
      }
    },
    {
      "cell_type": "markdown",
      "source": [
        " 15. Can you modify the elements of a tuple? Explain why or why not.\n",
        "\n",
        " Ans:\n",
        "\n",
        " No, you cannot modify the elements of a tuple.\n",
        "\n",
        " Tuples are immutable, meaning once created, their elements cannot be changed, added, or removed.\n",
        "\n",
        " - Immutability makes data safe from accidental changes.\n",
        " -Tuples can be used as dictionary keys, which require unchangeable data.\n",
        " -improves performance and memory efficiency.\n",
        "\n",
        " Example:\n",
        "\n",
        "    my_tuple = (1,2,3)\n",
        "\n",
        "    my_tuple[0] = 10     #Errors tuples cannot be modified\n",
        "\n",
        "    print(my_tuple)\n",
        "\n",
        "\n",
        "    Output\n",
        "    (1,2,3)\n"
      ],
      "metadata": {
        "id": "vXwMRU12gno4"
      }
    },
    {
      "cell_type": "markdown",
      "source": [
        "16. What is a nested dictionary, and give an example of its use case?\n",
        "\n",
        "Ans:\n",
        "\n",
        "A nested dictionary is a dictionary inside another dictionary.\n",
        "\n",
        "It allows storing data in a hierarchical (layered) structure.\n",
        "\n",
        "Example:\n",
        "\n",
        "    students = {\n",
        "       \"101\": {\"name\": \"Rahul\", \" marks\": 85},\n",
        "       \"102\": {\"name\": \"Neha\",\"marks\":90}\n",
        "       }\n",
        "       print(students[\"101\"][\"name\"])\n",
        "\n",
        "       Output\n",
        "       Rahul\n",
        "\n",
        "  Use Case:\n",
        "\n",
        "- Storing data for multiple entities,where each entity has multiple attributes.\n",
        "-Example: Students database, employee records, product details etc."
      ],
      "metadata": {
        "id": "WgDxAM3Ki_YG"
      }
    },
    {
      "cell_type": "markdown",
      "source": [],
      "metadata": {
        "id": "qUwlZfUcgsdJ"
      }
    },
    {
      "cell_type": "markdown",
      "source": [
        "17. Describe the time complexity of accessing elements in a dictionary?\n",
        "\n",
        "Ans:\n",
        "\n",
        "Time complexity of accessing elements in a dictionary\n",
        "\n",
        "- Average Case:\n",
        "\n",
        "Accessing an element by its key takes O(1) time (constant time).\n",
        "\n",
        "This is because dictionaries use hashing to find the value directly.\n",
        "\n",
        "- Worst Case:\n",
        "\n",
        "In rare cases(hash collisions),time complexity can be O(n),where n is the number of elements in the dictionary.\n",
        "\n",
        "Example:\n",
        "\n",
        "    student = {\"name\":\"Rahul\",\"age\":20}\n",
        "    print(student[\"age\"])\n",
        "\n",
        "    Output\n",
        "    O(1)"
      ],
      "metadata": {
        "id": "NzBTQdKrk91E"
      }
    },
    {
      "cell_type": "markdown",
      "source": [
        "18.  In what situations are lists preferred over dictionaries?\n",
        "\n",
        "Ans:\n",
        "\n",
        "Situations where lists are preferred over dictionaries\n",
        "\n",
        "- When order matters\n",
        "\n",
        "Lists maintain the order of elements, while dictionaries ( before Python 3.7) did not guarantee order.\n",
        "\n",
        "- When data has no unique keys\n",
        "\n",
        "Lists are better for simple collections like numbers, names, or items where keys are not required.\n",
        "\n",
        "- When Index-Based access is needed\n",
        "Lists allow accessing elements using their position(index),eg, list[0].\n",
        "\n",
        "-When memory usage should be lower\n",
        "\n",
        "Lists ae lighter than dictionaries for storing simple sequences"
      ],
      "metadata": {
        "id": "HrgJ6MkJmUj4"
      }
    },
    {
      "cell_type": "markdown",
      "source": [
        "19. Why are dictionaries considered unordered, and how does that affect data retrieval?\n",
        "\n",
        "Ans:\n",
        "\n",
        "Why dictionaries are considered unordered\n",
        "\n",
        "- In python, dictionaries store data using hashing not by sequence or index.\n",
        "\n",
        "- Before Python 3.7, dictionaries did not maintain the order of insertion.\n",
        "\n",
        "- Even though Python 3.7+ preserves insertion order, dictionaries are still conceptually unordered because data is accessed by keys not by position.\n",
        "\n",
        "How it affects data retrieval\n",
        "\n",
        "- You cannot access elements by index like in a list.\n",
        "\n",
        "- You must use the key to retrieve a value.\n",
        "\n",
        "- The order in which items are stored does not impact lookup speed (still O(1) average)."
      ],
      "metadata": {
        "id": "OOp1jbSZnxal"
      }
    },
    {
      "cell_type": "markdown",
      "source": [
        "20.  Explain the difference between a list and a dictionary in terms of data retrieval.\n",
        "\n",
        "Ans:\n",
        "\n",
        "List\n",
        "- Data is retrieved using an index (position number).\n",
        "\n",
        "Example:\n",
        "\n",
        "    my_list = [10,20,30]\n",
        "    print(my_list[1])\n",
        "\n",
        "    Output\n",
        "    20\n",
        "\n",
        "\n",
        "Dictionary\n",
        "- Data is retrieved using a key(label)\n",
        "Example:\n",
        "\n",
        "    my_dict = {\"a\": 10,\"b\":20}\n",
        "    print(my_dict[\"b\"])\n",
        "\n",
        "    Output\n",
        "\n",
        "    20"
      ],
      "metadata": {
        "id": "K_lWsd7SpIbq"
      }
    },
    {
      "cell_type": "markdown",
      "source": [
        "-----------------------------------------------PRATICIAL QUESTIONS-------------------------------------------------------------------------"
      ],
      "metadata": {
        "id": "pwyn0TV0wJDJ"
      }
    },
    {
      "cell_type": "code",
      "source": [
        "#1)Write a code to create a string with your name and print it\n",
        "\n",
        "name = \"Vandana\"\n",
        "print(name)"
      ],
      "metadata": {
        "colab": {
          "base_uri": "https://localhost:8080/"
        },
        "id": "RiInWcmCq0dW",
        "outputId": "82820b91-9dc3-46b9-d362-e23a0c967374"
      },
      "execution_count": 2,
      "outputs": [
        {
          "output_type": "stream",
          "name": "stdout",
          "text": [
            "Vandana\n"
          ]
        }
      ]
    },
    {
      "cell_type": "code",
      "source": [
        "#2)Write a code to find the length of the string \"Hello World\".\n",
        "\n",
        "string = \"Hello World\"\n",
        "print(len(string))"
      ],
      "metadata": {
        "colab": {
          "base_uri": "https://localhost:8080/"
        },
        "id": "4KC1X5b5rGY7",
        "outputId": "52fa0d18-f0cd-4812-ec9c-f4e215a930b5"
      },
      "execution_count": 3,
      "outputs": [
        {
          "output_type": "stream",
          "name": "stdout",
          "text": [
            "11\n"
          ]
        }
      ]
    },
    {
      "cell_type": "code",
      "source": [
        "#3)Write a code to slice the first 3 characters from the string \"Python Programming\".\n",
        "\n",
        "string = \"Python Programming\"\n",
        "print(string[:3])"
      ],
      "metadata": {
        "colab": {
          "base_uri": "https://localhost:8080/"
        },
        "id": "KKit5E7SrNuw",
        "outputId": "1eb2a74a-8460-4eca-cbaa-91b351145024"
      },
      "execution_count": 4,
      "outputs": [
        {
          "output_type": "stream",
          "name": "stdout",
          "text": [
            "Pyt\n"
          ]
        }
      ]
    },
    {
      "cell_type": "code",
      "source": [
        "#4)Write a code to convert the string \"hello\" to uppercase.\n",
        "\n",
        "a = \"hello\"\n",
        "print(a.upper())"
      ],
      "metadata": {
        "colab": {
          "base_uri": "https://localhost:8080/"
        },
        "id": "myyYWsHhrdVK",
        "outputId": "b4020c61-c377-4688-bf13-f57c664c1c22"
      },
      "execution_count": 5,
      "outputs": [
        {
          "output_type": "stream",
          "name": "stdout",
          "text": [
            "HELLO\n"
          ]
        }
      ]
    },
    {
      "cell_type": "code",
      "source": [
        "#5)Write a code to replace the word \"apple\" with \"orange\" in the string \"I like apple\".\n",
        "\n",
        "a = \"I like apple\"\n",
        "b = a.replace(\"apple\", \"orange\")\n",
        "print(b)"
      ],
      "metadata": {
        "colab": {
          "base_uri": "https://localhost:8080/"
        },
        "id": "0kJgGmqwrk9r",
        "outputId": "318d50e1-3769-4926-f285-ffd5cb23a9c4"
      },
      "execution_count": 7,
      "outputs": [
        {
          "output_type": "stream",
          "name": "stdout",
          "text": [
            "I like orange\n"
          ]
        }
      ]
    },
    {
      "cell_type": "code",
      "source": [
        "#6)Write a code to create a list with numbers 1 to 5 and print it.\n",
        "\n",
        "a = [1,2,3,4,5]\n",
        "print(a)"
      ],
      "metadata": {
        "colab": {
          "base_uri": "https://localhost:8080/"
        },
        "id": "G9Wf6op3roSg",
        "outputId": "84215fd9-f3fa-4e4a-9c92-c16e1048a716"
      },
      "execution_count": 10,
      "outputs": [
        {
          "output_type": "stream",
          "name": "stdout",
          "text": [
            "[1, 2, 3, 4, 5]\n"
          ]
        }
      ]
    },
    {
      "cell_type": "code",
      "source": [
        "#7)Write a code to append the number 10 to the list [1, 2, 3, 4].\n",
        "\n",
        "a = [1,2,3,4]\n",
        "a.append(10)\n",
        "print(a)"
      ],
      "metadata": {
        "colab": {
          "base_uri": "https://localhost:8080/"
        },
        "id": "dLRKwqWyryJq",
        "outputId": "cfaed706-8391-443d-99dc-5c7a0c932d81"
      },
      "execution_count": 9,
      "outputs": [
        {
          "output_type": "stream",
          "name": "stdout",
          "text": [
            "[1, 2, 3, 4, 10]\n"
          ]
        }
      ]
    },
    {
      "cell_type": "code",
      "source": [
        "#8)Write a code to remove the number 3 from the list [1, 2, 3, 4, 5].\n",
        "\n",
        "a = [1,2,3,4,5]\n",
        "a.remove(3)\n",
        "print(a)"
      ],
      "metadata": {
        "colab": {
          "base_uri": "https://localhost:8080/"
        },
        "id": "Mauj0Lbtr3nG",
        "outputId": "9becefee-2182-4658-8fb3-d7051b6c043d"
      },
      "execution_count": 8,
      "outputs": [
        {
          "output_type": "stream",
          "name": "stdout",
          "text": [
            "[1, 2, 4, 5]\n"
          ]
        }
      ]
    },
    {
      "cell_type": "code",
      "source": [
        "#9)Write a code to access the second element in the list ['a', 'b', 'c', 'd'].\n",
        "\n",
        "x = ['a','b','c','d']\n",
        "print(x[1])"
      ],
      "metadata": {
        "colab": {
          "base_uri": "https://localhost:8080/"
        },
        "id": "dr3Kr_FBsKhp",
        "outputId": "57aacbbc-7c82-4ae3-bf3b-80dabd2958ea"
      },
      "execution_count": 11,
      "outputs": [
        {
          "output_type": "stream",
          "name": "stdout",
          "text": [
            "b\n"
          ]
        }
      ]
    },
    {
      "cell_type": "code",
      "source": [
        "#10)Write a code to reverse the list [10, 20, 30, 40, 50].\n",
        "\n",
        "x = [10,20,30,40,50]\n",
        "x.reverse()\n",
        "print(x)"
      ],
      "metadata": {
        "colab": {
          "base_uri": "https://localhost:8080/"
        },
        "id": "POePPRccsXe7",
        "outputId": "c8457760-e38f-4042-f8eb-85deb427862e"
      },
      "execution_count": 12,
      "outputs": [
        {
          "output_type": "stream",
          "name": "stdout",
          "text": [
            "[50, 40, 30, 20, 10]\n"
          ]
        }
      ]
    },
    {
      "cell_type": "code",
      "source": [
        "#11)Write a code to create a tuple with the elements 100, 200, 300 and print it.\n",
        "\n",
        "a = (100,200,300)\n",
        "print(a)"
      ],
      "metadata": {
        "colab": {
          "base_uri": "https://localhost:8080/"
        },
        "id": "UKkuLSf7sfIw",
        "outputId": "33af4b27-b8f4-4cfd-dae6-461424715fed"
      },
      "execution_count": 13,
      "outputs": [
        {
          "output_type": "stream",
          "name": "stdout",
          "text": [
            "(100, 200, 300)\n"
          ]
        }
      ]
    },
    {
      "cell_type": "code",
      "source": [
        "#12)Write a code to access the second-to-last element of the tuple ('red', 'green', 'blue', 'yellow').\n",
        "\n",
        "a = ('red','green','blue','yellow')\n",
        "print(a[1:])"
      ],
      "metadata": {
        "colab": {
          "base_uri": "https://localhost:8080/"
        },
        "id": "wMBC4su-smKd",
        "outputId": "f90cbfec-6c72-4687-9580-85bb7cb2095a"
      },
      "execution_count": 14,
      "outputs": [
        {
          "output_type": "stream",
          "name": "stdout",
          "text": [
            "('green', 'blue', 'yellow')\n"
          ]
        }
      ]
    },
    {
      "cell_type": "code",
      "source": [
        "#13)Write a code to find the minimum number in the tuple (10, 20, 5, 15).\n",
        "\n",
        "a = (10,20,5,15)\n",
        "b = min(a)\n",
        "print(b)"
      ],
      "metadata": {
        "colab": {
          "base_uri": "https://localhost:8080/"
        },
        "id": "5_gDLXGPsuoS",
        "outputId": "6b42843c-ff07-4622-a515-836233bceacd"
      },
      "execution_count": 15,
      "outputs": [
        {
          "output_type": "stream",
          "name": "stdout",
          "text": [
            "5\n"
          ]
        }
      ]
    },
    {
      "cell_type": "code",
      "source": [
        "#14)Write a code to find the index of the element \"cat\" in the tuple ('dog', 'cat', 'rabbit').\n",
        "\n",
        "a = ('dog','cat','rabbit')\n",
        "b = a.index('cat')\n",
        "print(\"The index of the element cat:\", b)"
      ],
      "metadata": {
        "colab": {
          "base_uri": "https://localhost:8080/"
        },
        "id": "HPHKQYGds1TB",
        "outputId": "57c2b0c8-a4d2-4210-c85b-3ca681125138"
      },
      "execution_count": 16,
      "outputs": [
        {
          "output_type": "stream",
          "name": "stdout",
          "text": [
            "The index of the element cat: 1\n"
          ]
        }
      ]
    },
    {
      "cell_type": "code",
      "source": [
        "#15)Write a code to create a tuple containing three different fruits and check if \"kiwi\" is in it.\n",
        "\n",
        "fruits = (\"apple\",\"banana\",\"cherry\",\"kiwi\")\n",
        "if \"kiwi\" in fruits:\n",
        "  print(\"Kiwi is in tuple\")\n",
        "else:\n",
        "  print(\"Kiwi is not in the tuple\")"
      ],
      "metadata": {
        "colab": {
          "base_uri": "https://localhost:8080/"
        },
        "id": "vq-fT2_VtE7Z",
        "outputId": "88594cce-9ac8-4964-aa07-b90217e5af7e"
      },
      "execution_count": 17,
      "outputs": [
        {
          "output_type": "stream",
          "name": "stdout",
          "text": [
            "Kiwi is in tuple\n"
          ]
        }
      ]
    },
    {
      "cell_type": "code",
      "source": [
        "#16)Write a code to create a set with the elements 'a', 'b', 'c' and print it.\n",
        "\n",
        "x = {'a','b','c'}\n",
        "print(x)"
      ],
      "metadata": {
        "colab": {
          "base_uri": "https://localhost:8080/"
        },
        "id": "a-HD_psftN7-",
        "outputId": "456bd50a-684e-47f3-dab3-ff2d61b1cbdc"
      },
      "execution_count": 18,
      "outputs": [
        {
          "output_type": "stream",
          "name": "stdout",
          "text": [
            "{'b', 'c', 'a'}\n"
          ]
        }
      ]
    },
    {
      "cell_type": "code",
      "source": [
        "#17)Write a code to clear all elements from the set {1, 2, 3, 4, 5}.\n",
        "\n",
        "a = {1,2,3,4,5}\n",
        "a.clear()\n",
        "print(a)"
      ],
      "metadata": {
        "colab": {
          "base_uri": "https://localhost:8080/"
        },
        "id": "XYvadrRwtbgk",
        "outputId": "0654513c-6da7-4935-d766-7a743e2efce5"
      },
      "execution_count": 19,
      "outputs": [
        {
          "output_type": "stream",
          "name": "stdout",
          "text": [
            "set()\n"
          ]
        }
      ]
    },
    {
      "cell_type": "code",
      "source": [
        "#18)Write a code to remove the element 4 from the set {1, 2, 3, 4}.\n",
        "\n",
        "a = {1,2,3,4}\n",
        "a.remove(4)\n",
        "print(a)"
      ],
      "metadata": {
        "colab": {
          "base_uri": "https://localhost:8080/"
        },
        "id": "R5xDHVuathyE",
        "outputId": "7ef84f02-6ff5-48f9-c198-a4d95b7b983b"
      },
      "execution_count": 20,
      "outputs": [
        {
          "output_type": "stream",
          "name": "stdout",
          "text": [
            "{1, 2, 3}\n"
          ]
        }
      ]
    },
    {
      "cell_type": "code",
      "source": [
        "#19)Write a code to find the union of two sets {1, 2, 3} and {3, 4, 5}.\n",
        "\n",
        "a = {1,2,3}\n",
        "b = {3,4,5}\n",
        "union_set = a.union(b)\n",
        "print(\"Union of the sets is:\",union_set)"
      ],
      "metadata": {
        "colab": {
          "base_uri": "https://localhost:8080/"
        },
        "id": "fx15UihTtnd3",
        "outputId": "afe66d42-147f-4718-f28f-2ec94efa49c2"
      },
      "execution_count": 21,
      "outputs": [
        {
          "output_type": "stream",
          "name": "stdout",
          "text": [
            "Union of the sets is: {1, 2, 3, 4, 5}\n"
          ]
        }
      ]
    },
    {
      "cell_type": "code",
      "source": [
        "#20)Write a code to find the intersection of two sets {1, 2, 3} and {2, 3, 4}.\n",
        "\n",
        "a = {1,2,3}\n",
        "b = {2,3,4}\n",
        "intersection_set = a.intersection(b)\n",
        "print(\"intersection of the sets is:\",intersection_set)"
      ],
      "metadata": {
        "colab": {
          "base_uri": "https://localhost:8080/"
        },
        "id": "JmZBhaNFtvC5",
        "outputId": "17f12e11-b51e-4838-c7e0-6577889f84b8"
      },
      "execution_count": 22,
      "outputs": [
        {
          "output_type": "stream",
          "name": "stdout",
          "text": [
            "intersection of the sets is: {2, 3}\n"
          ]
        }
      ]
    },
    {
      "cell_type": "code",
      "source": [
        "#21)Write a code to create a dictionary with the keys \"name\", \"age\", and \"city\", and print it.\n",
        "\n",
        "a = {'name':'Vandana', 'age': 24, 'city':'Mumbai'}\n",
        "print(a)"
      ],
      "metadata": {
        "colab": {
          "base_uri": "https://localhost:8080/"
        },
        "id": "wbfbSgxut2nO",
        "outputId": "db33d0c4-ca46-44b0-e7c1-8e1a7af3c726"
      },
      "execution_count": 23,
      "outputs": [
        {
          "output_type": "stream",
          "name": "stdout",
          "text": [
            "{'name': 'Vandana', 'age': 24, 'city': 'Mumbai'}\n"
          ]
        }
      ]
    },
    {
      "cell_type": "code",
      "source": [
        "#22)Write a code to add a new key-value pair \"country\": \"USA\" to the dictionary {'name': 'John', 'age': 25}.\n",
        "\n",
        "a = {'name':'John', 'age':25}\n",
        "a['country'] = 'USA'\n",
        "print(a)"
      ],
      "metadata": {
        "colab": {
          "base_uri": "https://localhost:8080/"
        },
        "id": "9oio2IHeuCBF",
        "outputId": "8fc3d50c-225a-4345-ccc7-874ff9e840df"
      },
      "execution_count": 24,
      "outputs": [
        {
          "output_type": "stream",
          "name": "stdout",
          "text": [
            "{'name': 'John', 'age': 25, 'country': 'USA'}\n"
          ]
        }
      ]
    },
    {
      "cell_type": "code",
      "source": [
        "#23)Write a code to access the value associated with the key \"name\" in the dictionary {'name': 'Alice', 'age': 30}.\n",
        "\n",
        "a = {'name':'Alice','age':30}\n",
        "print(a['name'])"
      ],
      "metadata": {
        "colab": {
          "base_uri": "https://localhost:8080/"
        },
        "id": "hdrirtpkuIYp",
        "outputId": "811beed7-337e-4744-85e6-ae18829f1975"
      },
      "execution_count": 25,
      "outputs": [
        {
          "output_type": "stream",
          "name": "stdout",
          "text": [
            "Alice\n"
          ]
        }
      ]
    },
    {
      "cell_type": "code",
      "source": [
        "#24)Write a code to remove the key \"age\" from the dictionary {'name': 'Bob', 'age': 22, 'city': 'New York'}.\n",
        "\n",
        "a ={'name':'Bob','age': 22, 'city':'New York'}\n",
        "a.pop('age')\n",
        "print(a)"
      ],
      "metadata": {
        "colab": {
          "base_uri": "https://localhost:8080/"
        },
        "id": "8aJk2tNVuNWv",
        "outputId": "65ccdec3-da27-4e6a-fa62-91deab42f54c"
      },
      "execution_count": 26,
      "outputs": [
        {
          "output_type": "stream",
          "name": "stdout",
          "text": [
            "{'name': 'Bob', 'city': 'New York'}\n"
          ]
        }
      ]
    },
    {
      "cell_type": "code",
      "source": [
        "#25)Write a code to check if the key \"city\" exists in the dictionary {'name': 'Alice', 'city': 'Paris'}.\n",
        "\n",
        "a = {'name':'Alice','city':'Paris'}\n",
        "if \"city\" in a:\n",
        "    print(\"Key 'city' exists.\")\n",
        "else:\n",
        "    print(\"Key 'city' does not exist.\")\n"
      ],
      "metadata": {
        "id": "IeygAom_uS2F"
      },
      "execution_count": null,
      "outputs": []
    },
    {
      "cell_type": "code",
      "source": [
        "#26)Write a code to create a list, a tuple, and a dictionary, and print them all.\n",
        "\n",
        "my_list = [1, 2, 3, 4]\n",
        "my_tuple = (10, 20, 30)\n",
        "my_dict = {\"name\": \"John\", \"age\": 25}\n",
        "\n",
        "print(\"List:\", my_list)\n",
        "print(\"Tuple:\", my_tuple)\n",
        "print(\"Dictionary:\", my_dict)"
      ],
      "metadata": {
        "colab": {
          "base_uri": "https://localhost:8080/"
        },
        "id": "49_stHeNugNN",
        "outputId": "53d60f21-851b-4951-9994-f39a595ba419"
      },
      "execution_count": 27,
      "outputs": [
        {
          "output_type": "stream",
          "name": "stdout",
          "text": [
            "List: [1, 2, 3, 4]\n",
            "Tuple: (10, 20, 30)\n",
            "Dictionary: {'name': 'John', 'age': 25}\n"
          ]
        }
      ]
    },
    {
      "cell_type": "code",
      "source": [
        "#27)Write a code to create a list of 5 random numbers between 1 and 100, sort it in ascending order, and print the result.(replaced)\n",
        "\n",
        "import random\n",
        "\n",
        "numbers = []\n",
        "\n",
        "for i in range(5):\n",
        "    numbers.append(random.randint(1, 100))\n",
        "\n",
        "numbers.sort()\n",
        "print(\"Sorted numbers:\", numbers)"
      ],
      "metadata": {
        "colab": {
          "base_uri": "https://localhost:8080/"
        },
        "id": "V8rbM2brul5x",
        "outputId": "6ef473dd-36fe-4c2d-cf48-877f1eb43fa4"
      },
      "execution_count": 28,
      "outputs": [
        {
          "output_type": "stream",
          "name": "stdout",
          "text": [
            "Sorted numbers: [33, 41, 61, 70, 70]\n"
          ]
        }
      ]
    },
    {
      "cell_type": "code",
      "source": [
        "#28)Write a code to create a list with strings and print the element at the third index\n",
        "\n",
        "words = [\"apple\", \"banana\", \"cherry\", \"date\", \"fig\"]\n",
        "print(\"Element at index 3:\", words[3])"
      ],
      "metadata": {
        "colab": {
          "base_uri": "https://localhost:8080/"
        },
        "id": "Kr6LIzQ_v6NE",
        "outputId": "e1053705-fdb9-4941-df31-20ea459b98e6"
      },
      "execution_count": 32,
      "outputs": [
        {
          "output_type": "stream",
          "name": "stdout",
          "text": [
            "Element at index 3: date\n"
          ]
        }
      ]
    },
    {
      "cell_type": "code",
      "source": [
        "#29)Write a code to combine two dictionaries into one and print the result.\n",
        "\n",
        "dict1 = {\"a\": 1, \"b\": 2}\n",
        "dict2 = {\"c\": 3, \"d\": 4}\n",
        "\n",
        "combined = {**dict1, **dict2}\n",
        "\n",
        "print(\"Combined dictionary:\", combined)"
      ],
      "metadata": {
        "colab": {
          "base_uri": "https://localhost:8080/"
        },
        "id": "j2Q4Ld50usJ9",
        "outputId": "fe52046a-2748-487e-a3d9-af3fd7c73452"
      },
      "execution_count": 29,
      "outputs": [
        {
          "output_type": "stream",
          "name": "stdout",
          "text": [
            "Combined dictionary: {'a': 1, 'b': 2, 'c': 3, 'd': 4}\n"
          ]
        }
      ]
    },
    {
      "cell_type": "code",
      "source": [
        "#30)Write a code to convert a list of strings into a set.\n",
        "\n",
        "words = [\"apple\", \"banana\", \"cherry\", \"apple\"]\n",
        "word_set = set(words)\n",
        "print(\"Set:\", word_set)"
      ],
      "metadata": {
        "colab": {
          "base_uri": "https://localhost:8080/"
        },
        "id": "JdV22m6xux9M",
        "outputId": "a97e3df4-142b-4749-9112-e851de30223b"
      },
      "execution_count": 31,
      "outputs": [
        {
          "output_type": "stream",
          "name": "stdout",
          "text": [
            "Set: {'cherry', 'apple', 'banana'}\n"
          ]
        }
      ]
    }
  ]
}